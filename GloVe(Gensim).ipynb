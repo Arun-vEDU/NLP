{
 "cells": [
  {
   "cell_type": "code",
   "execution_count": 1,
   "metadata": {},
   "outputs": [],
   "source": [
    "import nltk\n",
    "from nltk.corpus import reuters\n",
    "from gensim.models import Word2Vec\n",
    "from gensim.test.utils import datapath\n",
    "from sklearn.decomposition import PCA\n",
    "import numpy as np\n",
    "import matplotlib.pyplot as plt"
   ]
  },
  {
   "cell_type": "code",
   "execution_count": 2,
   "metadata": {},
   "outputs": [
    {
     "name": "stderr",
     "output_type": "stream",
     "text": [
      "[nltk_data] Downloading package reuters to C:\\Users\\Arunya\n",
      "[nltk_data]     Senadeera\\AppData\\Roaming\\nltk_data...\n",
      "[nltk_data]   Package reuters is already up-to-date!\n",
      "[nltk_data] Downloading package punkt to C:\\Users\\Arunya\n",
      "[nltk_data]     Senadeera\\AppData\\Roaming\\nltk_data...\n",
      "[nltk_data]   Package punkt is already up-to-date!\n"
     ]
    },
    {
     "data": {
      "text/plain": [
       "True"
      ]
     },
     "execution_count": 2,
     "metadata": {},
     "output_type": "execute_result"
    }
   ],
   "source": [
    "# Download the reuters dataset if not already present\n",
    "nltk.download('reuters')\n",
    "nltk.download('punkt')"
   ]
  },
  {
   "cell_type": "code",
   "execution_count": 4,
   "metadata": {},
   "outputs": [],
   "source": [
    "# Prepare the corpus from the NLTK Reuters dataset\n",
    "def preprocess_reuters():\n",
    "    \"\"\"\n",
    "    Preprocess the Reuters dataset into tokenized sentences for training GloVe.\n",
    "    Returns:\n",
    "        sentences (list): A list of tokenized sentences.\n",
    "    \"\"\"\n",
    "    sentences = []\n",
    "    for file_id in reuters.fileids():\n",
    "        words = nltk.word_tokenize(reuters.raw(file_id).lower())\n",
    "        sentences.append(words)\n",
    "    return sentences"
   ]
  },
  {
   "cell_type": "code",
   "execution_count": 5,
   "metadata": {},
   "outputs": [],
   "source": [
    "# Function to train GloVe using Word2Vec (CBOW-based approximation)\n",
    "def train_glove_model(sentences, vector_size=100, window_size=2, min_count=5, epochs=10):\n",
    "    \"\"\"\n",
    "    Train a GloVe-like model using Word2Vec from Gensim.\n",
    "    Parameters:\n",
    "        sentences (list): Tokenized sentences from the corpus.\n",
    "        vector_size (int): Dimensionality of the word embeddings.\n",
    "        window_size (int): The context window size (default: 2).\n",
    "        min_count (int): Minimum word frequency to include in the vocabulary.\n",
    "        epochs (int): Number of training epochs.\n",
    "    Returns:\n",
    "        model (Word2Vec): The trained Word2Vec model.\n",
    "    \"\"\"\n",
    "    model = Word2Vec(\n",
    "        sentences,\n",
    "        vector_size=vector_size,\n",
    "        window=window_size,\n",
    "        min_count=min_count,\n",
    "        sg=0,  # CBOW model (default behavior of GloVe)\n",
    "        epochs=epochs\n",
    "    )\n",
    "    return model"
   ]
  },
  {
   "cell_type": "code",
   "execution_count": 6,
   "metadata": {},
   "outputs": [],
   "source": [
    "# Preprocess the Reuters dataset\n",
    "sentences = preprocess_reuters()"
   ]
  },
  {
   "cell_type": "code",
   "execution_count": 7,
   "metadata": {},
   "outputs": [],
   "source": [
    "# Train the GloVe-like model\n",
    "glove_model = train_glove_model(sentences, vector_size=100, window_size=2)"
   ]
  },
  {
   "cell_type": "code",
   "execution_count": 8,
   "metadata": {},
   "outputs": [
    {
     "name": "stdout",
     "output_type": "stream",
     "text": [
      "Vector for 'coffee': [-0.2191415   0.4598009   0.2871161   0.83043694  0.6061324   0.06429027\n",
      "  0.49268156  2.0731454  -1.941532   -0.05329357 -0.3271935  -1.0456574\n",
      " -1.412303    0.8062069  -0.02223909 -0.07627673 -0.15862551  0.91173005\n",
      " -0.6395679  -0.37854832 -0.11046285  0.26060668 -1.337606    1.5058206\n",
      "  0.92164904 -0.8014034   0.39773458  1.2006003   0.76542383 -0.3500184\n",
      " -1.8092761   0.44869685  0.7035125  -0.27707583  0.00237844  1.0330285\n",
      " -0.18642372 -0.5868566   1.3952365  -0.59762007  0.0203018  -1.1787736\n",
      "  0.39058673  1.5920978   1.0052571   0.27234235 -0.45426014  0.6280082\n",
      " -1.4392488   1.1674234   0.75116765 -1.5883415   0.8602698  -0.6536563\n",
      "  0.26608095 -0.8032028   0.59538096 -0.960481    0.2719245   0.9167623\n",
      "  0.9727404   0.7884941  -1.8808596  -0.30275804 -0.49108636  1.2997365\n",
      "  0.7091781   0.43464136  1.063069    0.35413986 -0.53478384 -0.7845688\n",
      " -0.30239704 -1.4773711   1.3907388  -0.9537378  -2.039637   -0.04352323\n",
      "  1.3863492   0.23946902  1.3010528   0.8100993  -0.8912188   0.69563425\n",
      "  0.79472    -0.6275419  -0.4052389  -0.29163742  0.9156526   0.13836472\n",
      "  0.46700153 -1.1494722   0.0984779  -0.14530969  1.2261599   2.0242212\n",
      "  0.6173569  -0.9729026  -0.35126776  0.03247659]\n"
     ]
    },
    {
     "ename": "KeyError",
     "evalue": "\"Key 'obama' not present in vocabulary\"",
     "output_type": "error",
     "traceback": [
      "\u001b[1;31m---------------------------------------------------------------------------\u001b[0m",
      "\u001b[1;31mKeyError\u001b[0m                                  Traceback (most recent call last)",
      "Cell \u001b[1;32mIn[8], line 4\u001b[0m\n\u001b[0;32m      2\u001b[0m word_vectors \u001b[38;5;241m=\u001b[39m glove_model\u001b[38;5;241m.\u001b[39mwv\n\u001b[0;32m      3\u001b[0m \u001b[38;5;28mprint\u001b[39m(\u001b[38;5;124m\"\u001b[39m\u001b[38;5;124mVector for \u001b[39m\u001b[38;5;124m'\u001b[39m\u001b[38;5;124mcoffee\u001b[39m\u001b[38;5;124m'\u001b[39m\u001b[38;5;124m:\u001b[39m\u001b[38;5;124m\"\u001b[39m, word_vectors[\u001b[38;5;124m'\u001b[39m\u001b[38;5;124mcoffee\u001b[39m\u001b[38;5;124m'\u001b[39m])\n\u001b[1;32m----> 4\u001b[0m \u001b[38;5;28mprint\u001b[39m(\u001b[38;5;124m\"\u001b[39m\u001b[38;5;124mMost similar to \u001b[39m\u001b[38;5;124m'\u001b[39m\u001b[38;5;124mobama\u001b[39m\u001b[38;5;124m'\u001b[39m\u001b[38;5;124m:\u001b[39m\u001b[38;5;124m\"\u001b[39m, \u001b[43mword_vectors\u001b[49m\u001b[38;5;241;43m.\u001b[39;49m\u001b[43mmost_similar\u001b[49m\u001b[43m(\u001b[49m\u001b[38;5;124;43m'\u001b[39;49m\u001b[38;5;124;43mobama\u001b[39;49m\u001b[38;5;124;43m'\u001b[39;49m\u001b[43m)\u001b[49m)\n",
      "File \u001b[1;32mc:\\Users\\Arunya Senadeera\\AppData\\Local\\Programs\\Python\\Python312\\Lib\\site-packages\\gensim\\models\\keyedvectors.py:841\u001b[0m, in \u001b[0;36mKeyedVectors.most_similar\u001b[1;34m(self, positive, negative, topn, clip_start, clip_end, restrict_vocab, indexer)\u001b[0m\n\u001b[0;32m    838\u001b[0m         weight[idx] \u001b[38;5;241m=\u001b[39m item[\u001b[38;5;241m1\u001b[39m]\n\u001b[0;32m    840\u001b[0m \u001b[38;5;66;03m# compute the weighted average of all keys\u001b[39;00m\n\u001b[1;32m--> 841\u001b[0m mean \u001b[38;5;241m=\u001b[39m \u001b[38;5;28;43mself\u001b[39;49m\u001b[38;5;241;43m.\u001b[39;49m\u001b[43mget_mean_vector\u001b[49m\u001b[43m(\u001b[49m\u001b[43mkeys\u001b[49m\u001b[43m,\u001b[49m\u001b[43m \u001b[49m\u001b[43mweight\u001b[49m\u001b[43m,\u001b[49m\u001b[43m \u001b[49m\u001b[43mpre_normalize\u001b[49m\u001b[38;5;241;43m=\u001b[39;49m\u001b[38;5;28;43;01mTrue\u001b[39;49;00m\u001b[43m,\u001b[49m\u001b[43m \u001b[49m\u001b[43mpost_normalize\u001b[49m\u001b[38;5;241;43m=\u001b[39;49m\u001b[38;5;28;43;01mTrue\u001b[39;49;00m\u001b[43m,\u001b[49m\u001b[43m \u001b[49m\u001b[43mignore_missing\u001b[49m\u001b[38;5;241;43m=\u001b[39;49m\u001b[38;5;28;43;01mFalse\u001b[39;49;00m\u001b[43m)\u001b[49m\n\u001b[0;32m    842\u001b[0m all_keys \u001b[38;5;241m=\u001b[39m [\n\u001b[0;32m    843\u001b[0m     \u001b[38;5;28mself\u001b[39m\u001b[38;5;241m.\u001b[39mget_index(key) \u001b[38;5;28;01mfor\u001b[39;00m key \u001b[38;5;129;01min\u001b[39;00m keys \u001b[38;5;28;01mif\u001b[39;00m \u001b[38;5;28misinstance\u001b[39m(key, _KEY_TYPES) \u001b[38;5;129;01mand\u001b[39;00m \u001b[38;5;28mself\u001b[39m\u001b[38;5;241m.\u001b[39mhas_index_for(key)\n\u001b[0;32m    844\u001b[0m ]\n\u001b[0;32m    846\u001b[0m \u001b[38;5;28;01mif\u001b[39;00m indexer \u001b[38;5;129;01mis\u001b[39;00m \u001b[38;5;129;01mnot\u001b[39;00m \u001b[38;5;28;01mNone\u001b[39;00m \u001b[38;5;129;01mand\u001b[39;00m \u001b[38;5;28misinstance\u001b[39m(topn, \u001b[38;5;28mint\u001b[39m):\n",
      "File \u001b[1;32mc:\\Users\\Arunya Senadeera\\AppData\\Local\\Programs\\Python\\Python312\\Lib\\site-packages\\gensim\\models\\keyedvectors.py:518\u001b[0m, in \u001b[0;36mKeyedVectors.get_mean_vector\u001b[1;34m(self, keys, weights, pre_normalize, post_normalize, ignore_missing)\u001b[0m\n\u001b[0;32m    516\u001b[0m         total_weight \u001b[38;5;241m+\u001b[39m\u001b[38;5;241m=\u001b[39m \u001b[38;5;28mabs\u001b[39m(weights[idx])\n\u001b[0;32m    517\u001b[0m     \u001b[38;5;28;01melif\u001b[39;00m \u001b[38;5;129;01mnot\u001b[39;00m ignore_missing:\n\u001b[1;32m--> 518\u001b[0m         \u001b[38;5;28;01mraise\u001b[39;00m \u001b[38;5;167;01mKeyError\u001b[39;00m(\u001b[38;5;124mf\u001b[39m\u001b[38;5;124m\"\u001b[39m\u001b[38;5;124mKey \u001b[39m\u001b[38;5;124m'\u001b[39m\u001b[38;5;132;01m{\u001b[39;00mkey\u001b[38;5;132;01m}\u001b[39;00m\u001b[38;5;124m'\u001b[39m\u001b[38;5;124m not present in vocabulary\u001b[39m\u001b[38;5;124m\"\u001b[39m)\n\u001b[0;32m    520\u001b[0m \u001b[38;5;28;01mif\u001b[39;00m total_weight \u001b[38;5;241m>\u001b[39m \u001b[38;5;241m0\u001b[39m:\n\u001b[0;32m    521\u001b[0m     mean \u001b[38;5;241m=\u001b[39m mean \u001b[38;5;241m/\u001b[39m total_weight\n",
      "\u001b[1;31mKeyError\u001b[0m: \"Key 'obama' not present in vocabulary\""
     ]
    }
   ],
   "source": [
    "# Example usage of the trained model\n",
    "word_vectors = glove_model.wv\n",
    "print(\"Vector for 'coffee':\", word_vectors['coffee'])\n",
    "print(\"Most similar to 'obama':\", word_vectors.most_similar('obama'))"
   ]
  },
  {
   "cell_type": "code",
   "execution_count": 9,
   "metadata": {},
   "outputs": [
    {
     "data": {
      "image/png": "[encoded data removed]",
      "text/plain": [
       "<Figure size 1000x1000 with 1 Axes>"
      ]
     },
     "metadata": {},
     "output_type": "display_data"
    }
   ],
   "source": [
    "# PCA Visualization\n",
    "words = ['coffee', 'tea', 'beer', 'wine', 'dog', 'cat', 'horse', 'monkey',\n",
    "         'france', 'germany', 'australia', 'china', 'school', 'college', 'university']\n",
    "\n",
    "word_vectors_array = np.array([word_vectors[w] for w in words if w in word_vectors])\n",
    "twodim = PCA().fit_transform(word_vectors_array)[:, :2]\n",
    "\n",
    "plt.figure(figsize=(10, 10))\n",
    "plt.scatter(twodim[:, 0], twodim[:, 1], edgecolors='k', c='r')\n",
    "for word, (x, y) in zip(words, twodim):\n",
    "    plt.text(x + 0.05, y + 0.05, word)\n",
    "plt.show()\n",
    "\n",
    "# Credit: The dataset used for training is sourced from the Reuters Corpus provided by the NLTK library."
   ]
  }
 ],
 "metadata": {
  "kernelspec": {
   "display_name": "Python 3",
   "language": "python",
   "name": "python3"
  },
  "language_info": {
   "codemirror_mode": {
    "name": "ipython",
    "version": 3
   },
   "file_extension": ".py",
   "mimetype": "text/x-python",
   "name": "python",
   "nbconvert_exporter": "python",
   "pygments_lexer": "ipython3",
   "version": "3.12.5"
  }
 },
 "nbformat": 4,
 "nbformat_minor": 2
}
